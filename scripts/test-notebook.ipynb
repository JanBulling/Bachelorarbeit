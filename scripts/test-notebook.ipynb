{
 "cells": [
  {
   "cell_type": "code",
   "execution_count": 3,
   "id": "a00195a4-f4fd-410a-aec8-6e7e88152f1a",
   "metadata": {},
   "outputs": [],
   "source": [
    "import numpy as np\n",
    "import matplotlib.pyplot as plt\n",
    "from scipy import linalg\n",
    "from scipy import integrate"
   ]
  },
  {
   "cell_type": "markdown",
   "id": "8accbddc-6eeb-45b5-8987-171801ed0fe0",
   "metadata": {
    "jp-MarkdownHeadingCollapsed": true
   },
   "source": [
    "# Setup"
   ]
  },
  {
   "cell_type": "code",
   "execution_count": 6,
   "id": "cdb14829-c8bc-4a30-8193-26a9be917aeb",
   "metadata": {},
   "outputs": [],
   "source": [
    "R = 1e-5        # radius of sphere\n",
    "density = 2648  # density of the spheres\n",
    "M = 4/3 * np.pi * R**3 * density # mass of the sphere\n",
    "L = 2 * R       # distance sphere-shield\n",
    "ds = 2e-9       # thickness of the shiled\n",
    "epsilon_r = 4.5 # dielectric constant\n",
    "dA = 100e-9     # separation of superposition\n",
    "dB = dA\n",
    "d = dA\n",
    "\n",
    "# Physical constant\n",
    "G = 6.67e-11    # gravitational constant\n",
    "c = 3e8         # speed of light\n",
    "hbar = 1.05e-34 # reduced planck constant\n",
    "\n",
    "# Casimir = 3/2 * c/np.pi * ((epsilon_r - 1) / (epsilon_r + 2)) * R**3 * 1/(L - R - ds/2)**5\n",
    "# Gravity = G*M**2 / (4 * hbar * L**2)\n",
    "# DeltaPhi = G*M**2*(dA+dB)**2 / (64*hbar*L**3)"
   ]
  },
  {
   "cell_type": "code",
   "execution_count": 5,
   "id": "c6daadb7-ec58-4c20-8075-2d92ae0bb553",
   "metadata": {},
   "outputs": [
    {
     "name": "stdout",
     "output_type": "stream",
     "text": [
      "0.12863232990023374\n"
     ]
    }
   ],
   "source": [
    "def t_max(L=L, dA=dA, dB=dB, alpha=np.pi/2, beta=np.pi/2):\n",
    "  return 4 *hbar * np.pi * L**3 / (G * M**2 * dA * dB) * 1 / (np.sin(alpha)*np.sin(beta) - 0.5*np.cos(alpha)*np.cos(beta))\n",
    "\n",
    "t_max_default = t_max()\n",
    "print(t_max_default)"
   ]
  },
  {
   "cell_type": "markdown",
   "id": "dc478d22-13aa-4fe1-9d6a-ace3d3eca79b",
   "metadata": {},
   "source": [
    "# Numerics"
   ]
  },
  {
   "cell_type": "code",
   "execution_count": 7,
   "id": "ae785ace-6a52-4827-bf96-f6cddb39aef3",
   "metadata": {},
   "outputs": [],
   "source": [
    "def Casimir(t, PFA=True):\n",
    "  return c * np.pi**3 / 720 * ((epsilon_r - 1) / (epsilon_r + 1)) * 0.50613 * R * t\n",
    "\n",
    "def Gravity(t):\n",
    "  return G * M**2 * t / hbar"
   ]
  },
  {
   "cell_type": "code",
   "execution_count": 8,
   "id": "d2352cad-58bc-4cc0-bf3f-951a88dc7d4d",
   "metadata": {},
   "outputs": [],
   "source": [
    "def dist_A1_B1(Theta_A, Theta_B, alpha, beta):\n",
    "  first_term = (2*L + d/2 * np.sin(alpha + Theta_A) - d/2 * np.sin(beta + Theta_B))\n",
    "  second_term = (d/2 * np.cos(alpha + Theta_A) - d/2 * np.cos(beta + Theta_B))\n",
    "\n",
    "  return np.sqrt(first_term**2 + second_term**2)\n",
    "\n",
    "def dist_A2_B2(Theta_A, Theta_B, alpha, beta):\n",
    "  first_term = (2*L - d/2 * np.sin(alpha + Theta_A) + d/2 * np.sin(beta + Theta_B))\n",
    "  second_term = (d/2 * np.cos(alpha + Theta_A) - d/2 * np.cos(beta + Theta_B))\n",
    "\n",
    "  return np.sqrt(first_term**2 + second_term**2)\n",
    "\n",
    "def dist_A1_B2(Theta_A, Theta_B, alpha, beta):\n",
    "  first_term = (2*L + d/2 * np.sin(alpha + Theta_A) + d/2 * np.sin(beta + Theta_B))\n",
    "  second_term = (d/2 * np.cos(alpha + Theta_A) + d/2 * np.cos(beta + Theta_B))\n",
    "\n",
    "  return np.sqrt(first_term**2 + second_term**2)\n",
    "\n",
    "def dist_A2_B1(Theta_A, Theta_B, alpha, beta):\n",
    "  first_term = (2*L - d/2 * np.sin(alpha + Theta_A) - d/2 * np.sin(beta + Theta_B))\n",
    "  second_term = (d/2 * np.cos(alpha + Theta_A) + d/2 * np.cos(beta + Theta_B))\n",
    "\n",
    "  return np.sqrt(first_term**2 + second_term**2)"
   ]
  },
  {
   "cell_type": "code",
   "execution_count": 9,
   "id": "bdbcfe12-720a-44ac-bd58-f3b9e2b98466",
   "metadata": {},
   "outputs": [],
   "source": [
    "def dist_A1(Theta_A, alpha, beta):\n",
    "  return L - R - ds/2 + d/2 * np.sin(alpha + Theta_A)\n",
    "\n",
    "def dist_A2(Theta_A, alpha, beta):\n",
    "  return L - R - ds/2 - d/2 * np.sin(alpha + Theta_A)\n",
    "\n",
    "def dist_B1(Theta_B, alpha, beta):\n",
    "  return L - R - ds/2 - d/2 * np.sin(beta + Theta_B)\n",
    "\n",
    "def dist_B2(Theta_B, alpha, beta):\n",
    "  return L - R - ds/2 + d/2 * np.sin(beta + Theta_B)"
   ]
  },
  {
   "cell_type": "code",
   "execution_count": 10,
   "id": "d89b30e8-483d-447a-a91e-90b0444695b1",
   "metadata": {},
   "outputs": [],
   "source": [
    "def gaussian(Theta_A, Theta_B, Delta_Theta):\n",
    "  return 1/(2 * np.pi * Delta_Theta * Delta_Theta) *  np.exp(-Theta_A**2 / (2 * Delta_Theta**2)) * np.exp(-Theta_B**2 / (2 * Delta_Theta**2))"
   ]
  },
  {
   "cell_type": "code",
   "execution_count": 11,
   "id": "392f32eb-ea40-4240-b204-7a71347605d0",
   "metadata": {},
   "outputs": [],
   "source": [
    "def rho_12(Theta_A, Theta_B, t, alpha, beta):\n",
    "  phases = Casimir(t) * (1/dist_B1(Theta_B, alpha, beta)**2 - 1/dist_B2(Theta_B, alpha, beta)**2) \\\n",
    "         + Gravity(t) * (1/dist_A1_B1(Theta_A, Theta_B, alpha, beta) - 1/dist_A1_B2(Theta_A, Theta_B, alpha, beta))\n",
    "\n",
    "  return np.exp(1j * phases)\n",
    "\n",
    "def rho_13(Theta_A, Theta_B, t, alpha, beta):\n",
    "  phases = Casimir(t) * (1/dist_A1(Theta_A, alpha, beta)**2 - 1/dist_A2(Theta_A, alpha, beta)**2) \\\n",
    "         + Gravity(t) * (1/dist_A1_B1(Theta_A, Theta_B, alpha, beta) - 1/dist_A2_B1(Theta_A, Theta_B, alpha, beta))\n",
    "\n",
    "  return np.exp(1j * phases)\n",
    "\n",
    "def rho_14(Theta_A, Theta_B, t, alpha, beta):\n",
    "  phases = Casimir(t) * (1/dist_A1(Theta_A, alpha, beta)**2 - 1/dist_A2(Theta_A, alpha, beta)**2) \\\n",
    "         + Casimir(t) * (1/dist_B1(Theta_B, alpha, beta)**2 - 1/dist_B2(Theta_B, alpha, beta)**2) \\\n",
    "         + Gravity(t) * (1/dist_A1_B1(Theta_A, Theta_B, alpha, beta) - 1/dist_A2_B2(Theta_A, Theta_B, alpha, beta))\n",
    "\n",
    "  return np.exp(1j * phases)\n",
    "\n",
    "def rho_23(Theta_A, Theta_B, t, alpha, beta):\n",
    "  phases = Casimir(t) * (1/dist_A1(Theta_A, alpha, beta)**2 - 1/dist_A2(Theta_A, alpha, beta)**2) \\\n",
    "         + Casimir(t) * (1/dist_B2(Theta_B, alpha, beta)**2 - 1/dist_B1(Theta_B, alpha, beta)**2) \\\n",
    "         + Gravity(t) * (1/dist_A1_B2(Theta_A, Theta_B, alpha, beta) - 1/dist_A2_B1(Theta_A, Theta_B, alpha, beta))\n",
    "\n",
    "  return np.exp(1j * phases)\n",
    "\n",
    "def rho_24(Theta_A, Theta_B, t, alpha, beta):\n",
    "  phases = Casimir(t) * (1/dist_A1(Theta_A, alpha, beta)**2 - 1/dist_A2(Theta_A, alpha, beta)**2) \\\n",
    "         + Gravity(t) * (1/dist_A1_B2(Theta_A, Theta_B, alpha, beta) - 1/dist_A2_B2(Theta_A, Theta_B, alpha, beta))\n",
    "\n",
    "  return np.exp(1j * phases)\n",
    "\n",
    "def rho_34(Theta_A, Theta_B, t, alpha, beta):\n",
    "  phases = Casimir(t) * (1/dist_B1(Theta_B, alpha, beta)**2 - 1/dist_B2(Theta_B, alpha, beta)**2) \\\n",
    "         + Gravity(t) * (1/dist_A2_B1(Theta_A, Theta_B, alpha, beta) - 1/dist_A2_B2(Theta_A, Theta_B, alpha, beta))\n",
    "\n",
    "  return np.exp(1j * phases)"
   ]
  },
  {
   "cell_type": "code",
   "execution_count": 12,
   "id": "ed2ee019-b5a6-4f5d-ae2b-da2ae33cdbf2",
   "metadata": {},
   "outputs": [],
   "source": [
    "def transposed_density(Delta_Theta, t, alpha, beta):\n",
    "  limit = 8 * Delta_Theta # 1e-8\n",
    "\n",
    "  rho12_real = integrate.dblquad(lambda Theta_A, Theta_B: np.real(rho_12(Theta_A, Theta_B, t, alpha, beta) * gaussian(Theta_A, Theta_B, Delta_Theta)), -limit, limit, -limit, limit)[0]\n",
    "  rho12_imag = integrate.dblquad(lambda Theta_A, Theta_B: np.imag(rho_12(Theta_A, Theta_B, t, alpha, beta) * gaussian(Theta_A, Theta_B, Delta_Theta)), -limit, limit, -limit, limit)[0]\n",
    "\n",
    "  rho13_real = integrate.dblquad(lambda Theta_A, Theta_B: np.real(rho_13(Theta_A, Theta_B, t, alpha, beta) * gaussian(Theta_A, Theta_B, Delta_Theta)), -limit, limit, -limit, limit)[0]\n",
    "  rho13_imag = integrate.dblquad(lambda Theta_A, Theta_B: np.imag(rho_13(Theta_A, Theta_B, t, alpha, beta) * gaussian(Theta_A, Theta_B, Delta_Theta)), -limit, limit, -limit, limit)[0]\n",
    "\n",
    "  rho14_real = integrate.dblquad(lambda Theta_A, Theta_B: np.real(rho_14(Theta_A, Theta_B, t, alpha, beta) * gaussian(Theta_A, Theta_B, Delta_Theta)), -limit, limit, -limit, limit)[0]\n",
    "  rho14_imag = integrate.dblquad(lambda Theta_A, Theta_B: np.imag(rho_14(Theta_A, Theta_B, t, alpha, beta) * gaussian(Theta_A, Theta_B, Delta_Theta)), -limit, limit, -limit, limit)[0]\n",
    "\n",
    "  rho23_real = integrate.dblquad(lambda Theta_A, Theta_B: np.real(rho_23(Theta_A, Theta_B, t, alpha, beta) * gaussian(Theta_A, Theta_B, Delta_Theta)), -limit, limit, -limit, limit)[0]\n",
    "  rho23_imag = integrate.dblquad(lambda Theta_A, Theta_B: np.imag(rho_23(Theta_A, Theta_B, t, alpha, beta) * gaussian(Theta_A, Theta_B, Delta_Theta)), -limit, limit, -limit, limit)[0]\n",
    "\n",
    "  rho24_real = integrate.dblquad(lambda Theta_A, Theta_B: np.real(rho_24(Theta_A, Theta_B, t, alpha, beta) * gaussian(Theta_A, Theta_B, Delta_Theta)), -limit, limit, -limit, limit)[0]\n",
    "  rho24_imag = integrate.dblquad(lambda Theta_A, Theta_B: np.imag(rho_24(Theta_A, Theta_B, t, alpha, beta) * gaussian(Theta_A, Theta_B, Delta_Theta)), -limit, limit, -limit, limit)[0]\n",
    "\n",
    "  rho34_real = integrate.dblquad(lambda Theta_A, Theta_B: np.real(rho_34(Theta_A, Theta_B, t, alpha, beta) * gaussian(Theta_A, Theta_B, Delta_Theta)), -limit, limit, -limit, limit)[0]\n",
    "  rho34_imag = integrate.dblquad(lambda Theta_A, Theta_B: np.imag(rho_34(Theta_A, Theta_B, t, alpha, beta) * gaussian(Theta_A, Theta_B, Delta_Theta)), -limit, limit, -limit, limit)[0]\n",
    "\n",
    "  rho_T = 0.25 * np.array([\n",
    "    [ 1,                           rho12_real - 1j*rho12_imag,  rho13_real + 1j*rho13_imag,  rho23_real + 1j*rho23_imag ],\n",
    "    [ rho12_real + 1j*rho12_imag,  1,                           rho14_real + 1j*rho14_imag,  rho24_real + 1j*rho24_imag ],\n",
    "    [ rho13_real - 1j*rho13_imag,  rho14_real - 1j*rho14_imag,  1,                           rho34_real - 1j*rho34_imag ],\n",
    "    [ rho23_real - 1j*rho23_imag,  rho24_real - 1j*rho24_imag,  rho34_real + 1j*rho34_imag,  1                          ]\n",
    "  ])\n",
    "\n",
    "  return rho_T"
   ]
  },
  {
   "cell_type": "code",
   "execution_count": 13,
   "id": "bce41fc2-5965-4b4a-88e2-a2448d41ce5e",
   "metadata": {},
   "outputs": [],
   "source": [
    "def log_neg(Delta_Theta, t=t_max_default, alpha=0, beta=0):\n",
    "  rho_T = transposed_density(Delta_Theta, t, alpha, beta)\n",
    "\n",
    "  # imaginary parts are because of unstable numerics\n",
    "  eigenvalues = np.real(linalg.eigvals(rho_T))\n",
    "  print(eigenvalues)\n",
    "\n",
    "  sum_negative_eigv = np.sum(np.abs(eigenvalues[eigenvalues <= 0]))\n",
    "  negativity = 2 * sum_negative_eigv + 1\n",
    "\n",
    "  log_neg = np.log(negativity) / np.log(2)\n",
    "\n",
    "  print(\"Log. Neg.: \", log_neg)\n",
    "\n",
    "  return log_neg"
   ]
  },
  {
   "cell_type": "code",
   "execution_count": null,
   "id": "600f12ee-4162-469a-a8ec-d712886e6b94",
   "metadata": {},
   "outputs": [
    {
     "name": "stderr",
     "output_type": "stream",
     "text": [
      "C:\\Users\\janbu\\AppData\\Local\\Programs\\Python\\Python312\\Lib\\site-packages\\scipy\\integrate\\_quadpack_py.py:1260: IntegrationWarning: The occurrence of roundoff error is detected, which prevents \n",
      "  the requested tolerance from being achieved.  The error may be \n",
      "  underestimated.\n",
      "  quad_r = quad(f, low, high, args=args, full_output=self.full_output,\n",
      "C:\\Users\\janbu\\AppData\\Local\\Programs\\Python\\Python312\\Lib\\site-packages\\scipy\\integrate\\_quadpack_py.py:1260: IntegrationWarning: The maximum number of subdivisions (50) has been achieved.\n",
      "  If increasing the limit yields no improvement it is advised to analyze \n",
      "  the integrand in order to determine the difficulties.  If the position of a \n",
      "  local difficulty can be determined (singularity, discontinuity) one will \n",
      "  probably gain from splitting up the interval and calling the integrator \n",
      "  on the subranges.  Perhaps a special-purpose integrator should be used.\n",
      "  quad_r = quad(f, low, high, args=args, full_output=self.full_output,\n"
     ]
    }
   ],
   "source": [
    "log_neg(6e-5, t_max_default, np.pi/2, np.pi/2)"
   ]
  },
  {
   "cell_type": "code",
   "execution_count": null,
   "id": "5f0f5a06-eba9-4b66-ad2e-a43516014130",
   "metadata": {},
   "outputs": [],
   "source": []
  }
 ],
 "metadata": {
  "kernelspec": {
   "display_name": "Python 3 (ipykernel)",
   "language": "python",
   "name": "python3"
  },
  "language_info": {
   "codemirror_mode": {
    "name": "ipython",
    "version": 3
   },
   "file_extension": ".py",
   "mimetype": "text/x-python",
   "name": "python",
   "nbconvert_exporter": "python",
   "pygments_lexer": "ipython3",
   "version": "3.12.6"
  }
 },
 "nbformat": 4,
 "nbformat_minor": 5
}
